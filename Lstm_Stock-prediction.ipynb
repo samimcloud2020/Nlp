{
  "nbformat": 4,
  "nbformat_minor": 0,
  "metadata": {
    "colab": {
      "provenance": []
    },
    "kernelspec": {
      "name": "python3",
      "display_name": "Python 3"
    },
    "language_info": {
      "name": "python"
    }
  },
  "cells": [
    {
      "cell_type": "code",
      "execution_count": 64,
      "metadata": {
        "colab": {
          "base_uri": "https://localhost:8080/"
        },
        "id": "Nzrh1d-J8rsD",
        "outputId": "56e63080-401d-4a4e-a89b-2e1ae9b8f7da"
      },
      "outputs": [
        {
          "output_type": "stream",
          "name": "stderr",
          "text": [
            "/tmp/ipython-input-77525094.py:13: FutureWarning: YF.download() has changed argument auto_adjust default to True\n",
            "  df = yf.download(ticker, start=start_date, end=end_date)\n",
            "\r[*********************100%***********************]  1 of 1 completed\n"
          ]
        }
      ],
      "source": [
        "import pandas as pd\n",
        "import yfinance as yf\n",
        "import numpy as np\n",
        "from sklearn.preprocessing import MinMaxScaler\n",
        "from tensorflow.keras.models import Sequential\n",
        "from tensorflow.keras.layers import LSTM, Dense\n",
        "import matplotlib.pyplot as plt\n",
        "\n",
        "# Load stock data from Yahoo Finance\n",
        "ticker = \"JINDALSTEL.NS\"  # use desired ticker symbol\n",
        "start_date = \"2010-01-01\"\n",
        "end_date = \"2025-09-22\"\n",
        "df = yf.download(ticker, start=start_date, end=end_date)"
      ]
    },
    {
      "cell_type": "code",
      "source": [
        "df.head()"
      ],
      "metadata": {
        "colab": {
          "base_uri": "https://localhost:8080/",
          "height": 269
        },
        "id": "MJS6wo3D8yCR",
        "outputId": "75ce99ec-ef97-4dcd-fed5-0e27a8f240cf"
      },
      "execution_count": 65,
      "outputs": [
        {
          "output_type": "execute_result",
          "data": {
            "text/plain": [
              "Price              Close          High           Low          Open  \\\n",
              "Ticker     JINDALSTEL.NS JINDALSTEL.NS JINDALSTEL.NS JINDALSTEL.NS   \n",
              "Date                                                                 \n",
              "2010-01-04    691.044800    693.421703    677.656607    689.347020   \n",
              "2010-01-05    705.742615    711.369529    694.003648    696.574595   \n",
              "2010-01-06    702.783691    714.522600    699.582117    710.156881   \n",
              "2010-01-07    699.291016    708.022452    694.634261    703.850778   \n",
              "2010-01-08    690.365601    703.317268    687.843209    700.455285   \n",
              "\n",
              "Price             Volume  \n",
              "Ticker     JINDALSTEL.NS  \n",
              "Date                      \n",
              "2010-01-04       2054651  \n",
              "2010-01-05       4020799  \n",
              "2010-01-06       3035406  \n",
              "2010-01-07       1827314  \n",
              "2010-01-08       1892096  "
            ],
            "text/html": [
              "\n",
              "  <div id=\"df-ed9ec207-2fc9-40c8-8971-94a88e037f9a\" class=\"colab-df-container\">\n",
              "    <div>\n",
              "<style scoped>\n",
              "    .dataframe tbody tr th:only-of-type {\n",
              "        vertical-align: middle;\n",
              "    }\n",
              "\n",
              "    .dataframe tbody tr th {\n",
              "        vertical-align: top;\n",
              "    }\n",
              "\n",
              "    .dataframe thead tr th {\n",
              "        text-align: left;\n",
              "    }\n",
              "\n",
              "    .dataframe thead tr:last-of-type th {\n",
              "        text-align: right;\n",
              "    }\n",
              "</style>\n",
              "<table border=\"1\" class=\"dataframe\">\n",
              "  <thead>\n",
              "    <tr>\n",
              "      <th>Price</th>\n",
              "      <th>Close</th>\n",
              "      <th>High</th>\n",
              "      <th>Low</th>\n",
              "      <th>Open</th>\n",
              "      <th>Volume</th>\n",
              "    </tr>\n",
              "    <tr>\n",
              "      <th>Ticker</th>\n",
              "      <th>JINDALSTEL.NS</th>\n",
              "      <th>JINDALSTEL.NS</th>\n",
              "      <th>JINDALSTEL.NS</th>\n",
              "      <th>JINDALSTEL.NS</th>\n",
              "      <th>JINDALSTEL.NS</th>\n",
              "    </tr>\n",
              "    <tr>\n",
              "      <th>Date</th>\n",
              "      <th></th>\n",
              "      <th></th>\n",
              "      <th></th>\n",
              "      <th></th>\n",
              "      <th></th>\n",
              "    </tr>\n",
              "  </thead>\n",
              "  <tbody>\n",
              "    <tr>\n",
              "      <th>2010-01-04</th>\n",
              "      <td>691.044800</td>\n",
              "      <td>693.421703</td>\n",
              "      <td>677.656607</td>\n",
              "      <td>689.347020</td>\n",
              "      <td>2054651</td>\n",
              "    </tr>\n",
              "    <tr>\n",
              "      <th>2010-01-05</th>\n",
              "      <td>705.742615</td>\n",
              "      <td>711.369529</td>\n",
              "      <td>694.003648</td>\n",
              "      <td>696.574595</td>\n",
              "      <td>4020799</td>\n",
              "    </tr>\n",
              "    <tr>\n",
              "      <th>2010-01-06</th>\n",
              "      <td>702.783691</td>\n",
              "      <td>714.522600</td>\n",
              "      <td>699.582117</td>\n",
              "      <td>710.156881</td>\n",
              "      <td>3035406</td>\n",
              "    </tr>\n",
              "    <tr>\n",
              "      <th>2010-01-07</th>\n",
              "      <td>699.291016</td>\n",
              "      <td>708.022452</td>\n",
              "      <td>694.634261</td>\n",
              "      <td>703.850778</td>\n",
              "      <td>1827314</td>\n",
              "    </tr>\n",
              "    <tr>\n",
              "      <th>2010-01-08</th>\n",
              "      <td>690.365601</td>\n",
              "      <td>703.317268</td>\n",
              "      <td>687.843209</td>\n",
              "      <td>700.455285</td>\n",
              "      <td>1892096</td>\n",
              "    </tr>\n",
              "  </tbody>\n",
              "</table>\n",
              "</div>\n",
              "    <div class=\"colab-df-buttons\">\n",
              "\n",
              "  <div class=\"colab-df-container\">\n",
              "    <button class=\"colab-df-convert\" onclick=\"convertToInteractive('df-ed9ec207-2fc9-40c8-8971-94a88e037f9a')\"\n",
              "            title=\"Convert this dataframe to an interactive table.\"\n",
              "            style=\"display:none;\">\n",
              "\n",
              "  <svg xmlns=\"http://www.w3.org/2000/svg\" height=\"24px\" viewBox=\"0 -960 960 960\">\n",
              "    <path d=\"M120-120v-720h720v720H120Zm60-500h600v-160H180v160Zm220 220h160v-160H400v160Zm0 220h160v-160H400v160ZM180-400h160v-160H180v160Zm440 0h160v-160H620v160ZM180-180h160v-160H180v160Zm440 0h160v-160H620v160Z\"/>\n",
              "  </svg>\n",
              "    </button>\n",
              "\n",
              "  <style>\n",
              "    .colab-df-container {\n",
              "      display:flex;\n",
              "      gap: 12px;\n",
              "    }\n",
              "\n",
              "    .colab-df-convert {\n",
              "      background-color: #E8F0FE;\n",
              "      border: none;\n",
              "      border-radius: 50%;\n",
              "      cursor: pointer;\n",
              "      display: none;\n",
              "      fill: #1967D2;\n",
              "      height: 32px;\n",
              "      padding: 0 0 0 0;\n",
              "      width: 32px;\n",
              "    }\n",
              "\n",
              "    .colab-df-convert:hover {\n",
              "      background-color: #E2EBFA;\n",
              "      box-shadow: 0px 1px 2px rgba(60, 64, 67, 0.3), 0px 1px 3px 1px rgba(60, 64, 67, 0.15);\n",
              "      fill: #174EA6;\n",
              "    }\n",
              "\n",
              "    .colab-df-buttons div {\n",
              "      margin-bottom: 4px;\n",
              "    }\n",
              "\n",
              "    [theme=dark] .colab-df-convert {\n",
              "      background-color: #3B4455;\n",
              "      fill: #D2E3FC;\n",
              "    }\n",
              "\n",
              "    [theme=dark] .colab-df-convert:hover {\n",
              "      background-color: #434B5C;\n",
              "      box-shadow: 0px 1px 3px 1px rgba(0, 0, 0, 0.15);\n",
              "      filter: drop-shadow(0px 1px 2px rgba(0, 0, 0, 0.3));\n",
              "      fill: #FFFFFF;\n",
              "    }\n",
              "  </style>\n",
              "\n",
              "    <script>\n",
              "      const buttonEl =\n",
              "        document.querySelector('#df-ed9ec207-2fc9-40c8-8971-94a88e037f9a button.colab-df-convert');\n",
              "      buttonEl.style.display =\n",
              "        google.colab.kernel.accessAllowed ? 'block' : 'none';\n",
              "\n",
              "      async function convertToInteractive(key) {\n",
              "        const element = document.querySelector('#df-ed9ec207-2fc9-40c8-8971-94a88e037f9a');\n",
              "        const dataTable =\n",
              "          await google.colab.kernel.invokeFunction('convertToInteractive',\n",
              "                                                    [key], {});\n",
              "        if (!dataTable) return;\n",
              "\n",
              "        const docLinkHtml = 'Like what you see? Visit the ' +\n",
              "          '<a target=\"_blank\" href=https://colab.research.google.com/notebooks/data_table.ipynb>data table notebook</a>'\n",
              "          + ' to learn more about interactive tables.';\n",
              "        element.innerHTML = '';\n",
              "        dataTable['output_type'] = 'display_data';\n",
              "        await google.colab.output.renderOutput(dataTable, element);\n",
              "        const docLink = document.createElement('div');\n",
              "        docLink.innerHTML = docLinkHtml;\n",
              "        element.appendChild(docLink);\n",
              "      }\n",
              "    </script>\n",
              "  </div>\n",
              "\n",
              "\n",
              "    <div id=\"df-900b6547-4951-412e-9fa8-deed9ec62fa9\">\n",
              "      <button class=\"colab-df-quickchart\" onclick=\"quickchart('df-900b6547-4951-412e-9fa8-deed9ec62fa9')\"\n",
              "                title=\"Suggest charts\"\n",
              "                style=\"display:none;\">\n",
              "\n",
              "<svg xmlns=\"http://www.w3.org/2000/svg\" height=\"24px\"viewBox=\"0 0 24 24\"\n",
              "     width=\"24px\">\n",
              "    <g>\n",
              "        <path d=\"M19 3H5c-1.1 0-2 .9-2 2v14c0 1.1.9 2 2 2h14c1.1 0 2-.9 2-2V5c0-1.1-.9-2-2-2zM9 17H7v-7h2v7zm4 0h-2V7h2v10zm4 0h-2v-4h2v4z\"/>\n",
              "    </g>\n",
              "</svg>\n",
              "      </button>\n",
              "\n",
              "<style>\n",
              "  .colab-df-quickchart {\n",
              "      --bg-color: #E8F0FE;\n",
              "      --fill-color: #1967D2;\n",
              "      --hover-bg-color: #E2EBFA;\n",
              "      --hover-fill-color: #174EA6;\n",
              "      --disabled-fill-color: #AAA;\n",
              "      --disabled-bg-color: #DDD;\n",
              "  }\n",
              "\n",
              "  [theme=dark] .colab-df-quickchart {\n",
              "      --bg-color: #3B4455;\n",
              "      --fill-color: #D2E3FC;\n",
              "      --hover-bg-color: #434B5C;\n",
              "      --hover-fill-color: #FFFFFF;\n",
              "      --disabled-bg-color: #3B4455;\n",
              "      --disabled-fill-color: #666;\n",
              "  }\n",
              "\n",
              "  .colab-df-quickchart {\n",
              "    background-color: var(--bg-color);\n",
              "    border: none;\n",
              "    border-radius: 50%;\n",
              "    cursor: pointer;\n",
              "    display: none;\n",
              "    fill: var(--fill-color);\n",
              "    height: 32px;\n",
              "    padding: 0;\n",
              "    width: 32px;\n",
              "  }\n",
              "\n",
              "  .colab-df-quickchart:hover {\n",
              "    background-color: var(--hover-bg-color);\n",
              "    box-shadow: 0 1px 2px rgba(60, 64, 67, 0.3), 0 1px 3px 1px rgba(60, 64, 67, 0.15);\n",
              "    fill: var(--button-hover-fill-color);\n",
              "  }\n",
              "\n",
              "  .colab-df-quickchart-complete:disabled,\n",
              "  .colab-df-quickchart-complete:disabled:hover {\n",
              "    background-color: var(--disabled-bg-color);\n",
              "    fill: var(--disabled-fill-color);\n",
              "    box-shadow: none;\n",
              "  }\n",
              "\n",
              "  .colab-df-spinner {\n",
              "    border: 2px solid var(--fill-color);\n",
              "    border-color: transparent;\n",
              "    border-bottom-color: var(--fill-color);\n",
              "    animation:\n",
              "      spin 1s steps(1) infinite;\n",
              "  }\n",
              "\n",
              "  @keyframes spin {\n",
              "    0% {\n",
              "      border-color: transparent;\n",
              "      border-bottom-color: var(--fill-color);\n",
              "      border-left-color: var(--fill-color);\n",
              "    }\n",
              "    20% {\n",
              "      border-color: transparent;\n",
              "      border-left-color: var(--fill-color);\n",
              "      border-top-color: var(--fill-color);\n",
              "    }\n",
              "    30% {\n",
              "      border-color: transparent;\n",
              "      border-left-color: var(--fill-color);\n",
              "      border-top-color: var(--fill-color);\n",
              "      border-right-color: var(--fill-color);\n",
              "    }\n",
              "    40% {\n",
              "      border-color: transparent;\n",
              "      border-right-color: var(--fill-color);\n",
              "      border-top-color: var(--fill-color);\n",
              "    }\n",
              "    60% {\n",
              "      border-color: transparent;\n",
              "      border-right-color: var(--fill-color);\n",
              "    }\n",
              "    80% {\n",
              "      border-color: transparent;\n",
              "      border-right-color: var(--fill-color);\n",
              "      border-bottom-color: var(--fill-color);\n",
              "    }\n",
              "    90% {\n",
              "      border-color: transparent;\n",
              "      border-bottom-color: var(--fill-color);\n",
              "    }\n",
              "  }\n",
              "</style>\n",
              "\n",
              "      <script>\n",
              "        async function quickchart(key) {\n",
              "          const quickchartButtonEl =\n",
              "            document.querySelector('#' + key + ' button');\n",
              "          quickchartButtonEl.disabled = true;  // To prevent multiple clicks.\n",
              "          quickchartButtonEl.classList.add('colab-df-spinner');\n",
              "          try {\n",
              "            const charts = await google.colab.kernel.invokeFunction(\n",
              "                'suggestCharts', [key], {});\n",
              "          } catch (error) {\n",
              "            console.error('Error during call to suggestCharts:', error);\n",
              "          }\n",
              "          quickchartButtonEl.classList.remove('colab-df-spinner');\n",
              "          quickchartButtonEl.classList.add('colab-df-quickchart-complete');\n",
              "        }\n",
              "        (() => {\n",
              "          let quickchartButtonEl =\n",
              "            document.querySelector('#df-900b6547-4951-412e-9fa8-deed9ec62fa9 button');\n",
              "          quickchartButtonEl.style.display =\n",
              "            google.colab.kernel.accessAllowed ? 'block' : 'none';\n",
              "        })();\n",
              "      </script>\n",
              "    </div>\n",
              "\n",
              "    </div>\n",
              "  </div>\n"
            ],
            "application/vnd.google.colaboratory.intrinsic+json": {
              "type": "dataframe",
              "variable_name": "df",
              "summary": "{\n  \"name\": \"df\",\n  \"rows\": 3881,\n  \"fields\": [\n    {\n      \"column\": [\n        \"Date\",\n        \"\"\n      ],\n      \"properties\": {\n        \"dtype\": \"date\",\n        \"min\": \"2010-01-04 00:00:00\",\n        \"max\": \"2025-09-19 00:00:00\",\n        \"num_unique_values\": 3881,\n        \"samples\": [\n          \"2023-11-28 00:00:00\",\n          \"2014-02-11 00:00:00\",\n          \"2023-03-31 00:00:00\"\n        ],\n        \"semantic_type\": \"\",\n        \"description\": \"\"\n      }\n    },\n    {\n      \"column\": [\n        \"Close\",\n        \"JINDALSTEL.NS\"\n      ],\n      \"properties\": {\n        \"dtype\": \"number\",\n        \"std\": 267.41606323127417,\n        \"min\": 52.65583038330078,\n        \"max\": 1073.3199462890625,\n        \"num_unique_values\": 3472,\n        \"samples\": [\n          79.72329711914062,\n          230.77699279785156,\n          222.01235961914062\n        ],\n        \"semantic_type\": \"\",\n        \"description\": \"\"\n      }\n    },\n    {\n      \"column\": [\n        \"High\",\n        \"JINDALSTEL.NS\"\n      ],\n      \"properties\": {\n        \"dtype\": \"number\",\n        \"std\": 270.558809751495,\n        \"min\": 54.23353161662437,\n        \"max\": 1092.541433649955,\n        \"num_unique_values\": 3875,\n        \"samples\": [\n          947.3207222854483,\n          907.4996457472316,\n          184.29542302475633\n        ],\n        \"semantic_type\": \"\",\n        \"description\": \"\"\n      }\n    },\n    {\n      \"column\": [\n        \"Low\",\n        \"JINDALSTEL.NS\"\n      ],\n      \"properties\": {\n        \"dtype\": \"number\",\n        \"std\": 264.12909156224714,\n        \"min\": 47.42969374957854,\n        \"max\": 1055.1938427443856,\n        \"num_unique_values\": 3872,\n        \"samples\": [\n          574.9089205374995,\n          887.9385318934261,\n          171.23004084346286\n        ],\n        \"semantic_type\": \"\",\n        \"description\": \"\"\n      }\n    },\n    {\n      \"column\": [\n        \"Open\",\n        \"JINDALSTEL.NS\"\n      ],\n      \"properties\": {\n        \"dtype\": \"number\",\n        \"std\": 267.5940703266758,\n        \"min\": 53.05025854465997,\n        \"max\": 1075.6106217164995,\n        \"num_unique_values\": 3874,\n        \"samples\": [\n          998.0200872633404,\n          895.4735717773438,\n          174.04032980782645\n        ],\n        \"semantic_type\": \"\",\n        \"description\": \"\"\n      }\n    },\n    {\n      \"column\": [\n        \"Volume\",\n        \"JINDALSTEL.NS\"\n      ],\n      \"properties\": {\n        \"dtype\": \"number\",\n        \"std\": 7726376,\n        \"min\": 0,\n        \"max\": 68648559,\n        \"num_unique_values\": 3877,\n        \"samples\": [\n          1166914,\n          1009777,\n          7958391\n        ],\n        \"semantic_type\": \"\",\n        \"description\": \"\"\n      }\n    }\n  ]\n}"
            }
          },
          "metadata": {},
          "execution_count": 65
        }
      ]
    },
    {
      "cell_type": "code",
      "source": [
        "df.columns"
      ],
      "metadata": {
        "colab": {
          "base_uri": "https://localhost:8080/"
        },
        "id": "HULqw-Ff8yFc",
        "outputId": "e7cb7218-bb8f-41d6-cc77-ef6846d6ac90"
      },
      "execution_count": 66,
      "outputs": [
        {
          "output_type": "execute_result",
          "data": {
            "text/plain": [
              "MultiIndex([( 'Close', 'JINDALSTEL.NS'),\n",
              "            (  'High', 'JINDALSTEL.NS'),\n",
              "            (   'Low', 'JINDALSTEL.NS'),\n",
              "            (  'Open', 'JINDALSTEL.NS'),\n",
              "            ('Volume', 'JINDALSTEL.NS')],\n",
              "           names=['Price', 'Ticker'])"
            ]
          },
          "metadata": {},
          "execution_count": 66
        }
      ]
    },
    {
      "cell_type": "code",
      "source": [
        "df['Close'].values"
      ],
      "metadata": {
        "colab": {
          "base_uri": "https://localhost:8080/"
        },
        "id": "cSlZZb349OhA",
        "outputId": "6a70e40a-ed86-4b10-c600-9fb3ce02aea7"
      },
      "execution_count": 67,
      "outputs": [
        {
          "output_type": "execute_result",
          "data": {
            "text/plain": [
              "array([[ 691.0447998 ],\n",
              "       [ 705.74261475],\n",
              "       [ 702.78369141],\n",
              "       ...,\n",
              "       [1033.65002441],\n",
              "       [1047.65002441],\n",
              "       [1046.        ]])"
            ]
          },
          "metadata": {},
          "execution_count": 67
        }
      ]
    },
    {
      "cell_type": "code",
      "source": [
        "# Use closing price\n",
        "data = df['Close'].values.reshape(-1, 1)  #Reshape is to convert to 2D array, as scaler expects.\n",
        "\n",
        "data"
      ],
      "metadata": {
        "colab": {
          "base_uri": "https://localhost:8080/"
        },
        "id": "phYL_A3Q8yH7",
        "outputId": "9e85db5e-f7a8-471a-d0f0-8255e45064d8"
      },
      "execution_count": 68,
      "outputs": [
        {
          "output_type": "execute_result",
          "data": {
            "text/plain": [
              "array([[ 691.0447998 ],\n",
              "       [ 705.74261475],\n",
              "       [ 702.78369141],\n",
              "       ...,\n",
              "       [1033.65002441],\n",
              "       [1047.65002441],\n",
              "       [1046.        ]])"
            ]
          },
          "metadata": {},
          "execution_count": 68
        }
      ]
    },
    {
      "cell_type": "code",
      "source": [
        "# Normalize data\n",
        "scaler = MinMaxScaler(feature_range=(0, 1)) #MinMaxScaler to scale values between 0 and 1 to improve model training stability.\n",
        "scaled_data = scaler.fit_transform(data)"
      ],
      "metadata": {
        "id": "xEPTIuNx8yNL"
      },
      "execution_count": 69,
      "outputs": []
    },
    {
      "cell_type": "code",
      "source": [
        "# Prepare training dataset\n",
        "train_size = int(len(scaled_data) * 0.8)\n",
        "train_data = scaled_data[:train_size]\n",
        "train_size"
      ],
      "metadata": {
        "colab": {
          "base_uri": "https://localhost:8080/"
        },
        "id": "jzF6wjE68yQL",
        "outputId": "6b5619a6-ce85-43dd-8564-7044dc75c26d"
      },
      "execution_count": 70,
      "outputs": [
        {
          "output_type": "execute_result",
          "data": {
            "text/plain": [
              "3104"
            ]
          },
          "metadata": {},
          "execution_count": 70
        }
      ]
    },
    {
      "cell_type": "code",
      "source": [
        "train_data"
      ],
      "metadata": {
        "colab": {
          "base_uri": "https://localhost:8080/"
        },
        "id": "vI5SayuO8ySu",
        "outputId": "f5e50c36-1df9-4d94-906d-e9adbc2cfe57"
      },
      "execution_count": 71,
      "outputs": [
        {
          "output_type": "execute_result",
          "data": {
            "text/plain": [
              "array([[0.6254643 ],\n",
              "       [0.63986455],\n",
              "       [0.63696553],\n",
              "       ...,\n",
              "       [0.29862283],\n",
              "       [0.30336719],\n",
              "       [0.31363051]])"
            ]
          },
          "metadata": {},
          "execution_count": 71
        }
      ]
    },
    {
      "cell_type": "markdown",
      "source": [
        "Description:\n",
        "\n",
        "Converts the continuous time series prices into sequences of fixed length (time_step).\n",
        "\n",
        "Each X sample contains the previous 2000 days' prices, and corresponding Y is the price on the next day.\n",
        "\n",
        "This format suits LSTM which takes sequences as input."
      ],
      "metadata": {
        "id": "qwAT9A5LEHZm"
      }
    },
    {
      "cell_type": "code",
      "source": [
        "def create_dataset(dataset, time_step=2000):\n",
        "    X, Y = [], []\n",
        "    for i in range(len(dataset) - time_step - 1):\n",
        "        X.append(dataset[i:(i + time_step), 0])\n",
        "        Y.append(dataset[i + time_step, 0])\n",
        "    return np.array(X), np.array(Y)\n",
        "\n",
        "time_step = 2000\n",
        "X_train, y_train = create_dataset(train_data, time_step)"
      ],
      "metadata": {
        "id": "CbMrYE408yVb"
      },
      "execution_count": 72,
      "outputs": []
    },
    {
      "cell_type": "code",
      "source": [
        "X_train.shape, y_train.shape"
      ],
      "metadata": {
        "colab": {
          "base_uri": "https://localhost:8080/"
        },
        "id": "V91jlIuU8yYF",
        "outputId": "5ab9b4b9-8ef4-47d5-a28a-9a4ddcd444e7"
      },
      "execution_count": 73,
      "outputs": [
        {
          "output_type": "execute_result",
          "data": {
            "text/plain": [
              "((1103, 2000), (1103,))"
            ]
          },
          "metadata": {},
          "execution_count": 73
        }
      ]
    },
    {
      "cell_type": "code",
      "source": [
        "# Reshape input to [samples, time steps, features] for LSTM\n",
        "X_train = X_train.reshape(X_train.shape[0], X_train.shape[1], 1)\n",
        "X_train.shape, y_train.shape"
      ],
      "metadata": {
        "colab": {
          "base_uri": "https://localhost:8080/"
        },
        "id": "Kp70dgdP8ya9",
        "outputId": "3a72c828-fef0-4bc4-b0c8-1388a45fa799"
      },
      "execution_count": 74,
      "outputs": [
        {
          "output_type": "execute_result",
          "data": {
            "text/plain": [
              "((1103, 2000, 1), (1103,))"
            ]
          },
          "metadata": {},
          "execution_count": 74
        }
      ]
    },
    {
      "cell_type": "markdown",
      "source": [
        "Building the LSTM Neural Network\n",
        "A sequential model with two LSTM layers and a dense output layer is built.\n",
        "\n",
        "The input shape matches (time_step, 1) where 1 is the number of features (price).\n",
        "\n",
        "The model is compiled with Adam optimizer and MSE loss."
      ],
      "metadata": {
        "id": "mbZpR_rUEkP4"
      }
    },
    {
      "cell_type": "markdown",
      "source": [
        "Splits scaled data into training (80%) and testing (20%) sets.\n",
        "\n",
        "Includes time_step overlap in test set to ensure sequences have sufficient history.\n",
        "\n",
        "Calls create_dataset to generate sequences.\n",
        "\n",
        "Reshapes input into 3D tensors [samples, time_steps, features] as expected by LSTM layers."
      ],
      "metadata": {
        "id": "UBMC-AfUGl4F"
      }
    },
    {
      "cell_type": "markdown",
      "source": [
        "Creates a deep learning model using Keras Sequential API.\n",
        "\n",
        "Adds two LSTM layers with 50 units each; the first returns sequences for the next LSTM layer, and the second outputs a single vector.\n",
        "\n",
        "Adds two Dense layers: a hidden layer with 25 units and an output layer with 1 unit for the regression price prediction.\n",
        "\n",
        "Compiles the model with Adam optimizer and mean squared error loss (suitable for regression)."
      ],
      "metadata": {
        "id": "E7TuedJ7HPAz"
      }
    },
    {
      "cell_type": "code",
      "source": [
        "# Build LSTM model\n",
        "model = Sequential()\n",
        "model.add(LSTM(50, return_sequences=True, input_shape=(time_step, 1)))\n",
        "model.add(LSTM(50, return_sequences=False))\n",
        "model.add(Dense(25))\n",
        "model.add(Dense(1))\n",
        "\n",
        "model.compile(optimizer='adam', loss='mean_squared_error')\n",
        "\n",
        "# Train model\n",
        "model.fit(X_train, y_train, epochs=10, batch_size=64, verbose=1)"
      ],
      "metadata": {
        "colab": {
          "base_uri": "https://localhost:8080/"
        },
        "id": "YKTaowOo8ydj",
        "outputId": "c9da76f4-53e0-4732-b07b-959f1ad9d145"
      },
      "execution_count": 75,
      "outputs": [
        {
          "output_type": "stream",
          "name": "stderr",
          "text": [
            "/usr/local/lib/python3.12/dist-packages/keras/src/layers/rnn/rnn.py:199: UserWarning: Do not pass an `input_shape`/`input_dim` argument to a layer. When using Sequential models, prefer using an `Input(shape)` object as the first layer in the model instead.\n",
            "  super().__init__(**kwargs)\n"
          ]
        },
        {
          "output_type": "stream",
          "name": "stdout",
          "text": [
            "Epoch 1/10\n",
            "\u001b[1m18/18\u001b[0m \u001b[32m━━━━━━━━━━━━━━━━━━━━\u001b[0m\u001b[37m\u001b[0m \u001b[1m26s\u001b[0m 1s/step - loss: 0.0178\n",
            "Epoch 2/10\n",
            "\u001b[1m18/18\u001b[0m \u001b[32m━━━━━━━━━━━━━━━━━━━━\u001b[0m\u001b[37m\u001b[0m \u001b[1m41s\u001b[0m 1s/step - loss: 0.0016\n",
            "Epoch 3/10\n",
            "\u001b[1m18/18\u001b[0m \u001b[32m━━━━━━━━━━━━━━━━━━━━\u001b[0m\u001b[37m\u001b[0m \u001b[1m23s\u001b[0m 1s/step - loss: 5.1669e-04\n",
            "Epoch 4/10\n",
            "\u001b[1m18/18\u001b[0m \u001b[32m━━━━━━━━━━━━━━━━━━━━\u001b[0m\u001b[37m\u001b[0m \u001b[1m41s\u001b[0m 1s/step - loss: 4.6350e-04\n",
            "Epoch 5/10\n",
            "\u001b[1m18/18\u001b[0m \u001b[32m━━━━━━━━━━━━━━━━━━━━\u001b[0m\u001b[37m\u001b[0m \u001b[1m24s\u001b[0m 1s/step - loss: 3.9207e-04\n",
            "Epoch 6/10\n",
            "\u001b[1m18/18\u001b[0m \u001b[32m━━━━━━━━━━━━━━━━━━━━\u001b[0m\u001b[37m\u001b[0m \u001b[1m24s\u001b[0m 1s/step - loss: 3.8826e-04\n",
            "Epoch 7/10\n",
            "\u001b[1m18/18\u001b[0m \u001b[32m━━━━━━━━━━━━━━━━━━━━\u001b[0m\u001b[37m\u001b[0m \u001b[1m24s\u001b[0m 1s/step - loss: 3.5502e-04\n",
            "Epoch 8/10\n",
            "\u001b[1m18/18\u001b[0m \u001b[32m━━━━━━━━━━━━━━━━━━━━\u001b[0m\u001b[37m\u001b[0m \u001b[1m24s\u001b[0m 1s/step - loss: 3.7854e-04\n",
            "Epoch 9/10\n",
            "\u001b[1m18/18\u001b[0m \u001b[32m━━━━━━━━━━━━━━━━━━━━\u001b[0m\u001b[37m\u001b[0m \u001b[1m24s\u001b[0m 1s/step - loss: 3.4633e-04\n",
            "Epoch 10/10\n",
            "\u001b[1m18/18\u001b[0m \u001b[32m━━━━━━━━━━━━━━━━━━━━\u001b[0m\u001b[37m\u001b[0m \u001b[1m40s\u001b[0m 1s/step - loss: 3.3443e-04\n"
          ]
        },
        {
          "output_type": "execute_result",
          "data": {
            "text/plain": [
              "<keras.src.callbacks.history.History at 0x7a7abd3de960>"
            ]
          },
          "metadata": {},
          "execution_count": 75
        }
      ]
    },
    {
      "cell_type": "code",
      "source": [
        "# Prepare test data\n",
        "test_data = scaled_data[train_size - time_step:]\n",
        "X_test, y_test = create_dataset(test_data, time_step)\n",
        "X_test = X_test.reshape(X_test.shape[0], X_test.shape[1], 1)\n",
        "\n",
        "# Predict\n",
        "predictions = model.predict(X_test)\n",
        "predictions = scaler.inverse_transform(predictions)\n",
        "\n",
        "# Inverse transform actual y_test for comparison\n",
        "y_test_actual = scaler.inverse_transform(y_test.reshape(-1, 1))\n",
        "\n",
        "# Adjust date range for plotting to match y_test_actual length\n",
        "date_range = df.index[-len(y_test_actual):]\n",
        "\n",
        "# Plot results with aligned lengths\n",
        "plt.figure(figsize=(12, 6))\n",
        "plt.plot(date_range, y_test_actual, label=\"Actual Price\")\n",
        "plt.plot(date_range, predictions, label=\"Predicted Price\")\n",
        "plt.title(f\"{ticker} Stock Price Prediction\")\n",
        "plt.xlabel(\"Date\")\n",
        "plt.ylabel(\"Stock Price\")\n",
        "plt.legend()\n",
        "plt.show()\n"
      ],
      "metadata": {
        "colab": {
          "base_uri": "https://localhost:8080/",
          "height": 581
        },
        "id": "2UatVg_vAfRW",
        "outputId": "7d15a6fe-f13c-421e-bfa7-8a5f62f6bfe8"
      },
      "execution_count": 76,
      "outputs": [
        {
          "output_type": "stream",
          "name": "stdout",
          "text": [
            "\u001b[1m25/25\u001b[0m \u001b[32m━━━━━━━━━━━━━━━━━━━━\u001b[0m\u001b[37m\u001b[0m \u001b[1m7s\u001b[0m 270ms/step\n"
          ]
        },
        {
          "output_type": "display_data",
          "data": {
            "text/plain": [
              "<Figure size 1200x600 with 1 Axes>"
            ],
            "image/png": "[encoded data removed]"
          },
          "metadata": {}
        }
      ]
    },
    {
      "cell_type": "code",
      "source": [
        "import pandas as pd\n",
        "\n",
        "# Create DataFrame from date range, actual prices, and predicted prices\n",
        "results_df = pd.DataFrame({\n",
        "    'Date': date_range,\n",
        "    'Actual Price': y_test_actual.flatten(),       # flatten to 1D array\n",
        "    'Predicted Price': predictions.flatten()       # flatten to 1D array\n",
        "})\n",
        "\n",
        "# Set Date as index (optional, useful for plotting and time series analysis)\n",
        "results_df.set_index('Date', inplace=True)\n",
        "\n",
        "print(results_df.head())\n"
      ],
      "metadata": {
        "colab": {
          "base_uri": "https://localhost:8080/"
        },
        "id": "Dm9QrerWCcGq",
        "outputId": "2c4b2e21-6958-4c28-c4be-ab989cca0847"
      },
      "execution_count": 77,
      "outputs": [
        {
          "output_type": "stream",
          "name": "stdout",
          "text": [
            "            Actual Price  Predicted Price\n",
            "Date                                     \n",
            "2022-08-01    384.477997       361.131531\n",
            "2022-08-02    386.306244       364.007874\n",
            "2022-08-03    379.487335       367.370941\n",
            "2022-08-04    373.211945       370.623688\n",
            "2022-08-05    378.301422       373.346832\n"
          ]
        }
      ]
    },
    {
      "cell_type": "code",
      "source": [],
      "metadata": {
        "id": "1Q7SVtxmCcRy"
      },
      "execution_count": 77,
      "outputs": []
    }
  ]
}